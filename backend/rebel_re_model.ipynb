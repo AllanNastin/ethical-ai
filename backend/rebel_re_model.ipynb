{
 "cells": [
  {
   "cell_type": "markdown",
   "source": [
    "# Testing REBEL-large on the AI Act"
   ],
   "metadata": {
    "collapsed": false
   },
   "id": "b37515afa8735226"
  },
  {
   "cell_type": "code",
   "execution_count": 14,
   "id": "56bc96e1c49e2a5",
   "metadata": {
    "collapsed": false,
    "ExecuteTime": {
     "end_time": "2024-02-09T14:25:01.607339279Z",
     "start_time": "2024-02-09T14:25:01.603230936Z"
    }
   },
   "outputs": [],
   "source": [
    "from transformers import pipeline\n",
    "from rebel_re_model import extract_triplets"
   ]
  },
  {
   "cell_type": "code",
   "outputs": [
    {
     "name": "stderr",
     "output_type": "stream",
     "text": [
      "Special tokens have been added in the vocabulary, make sure the associated word embeddings are fine-tuned or trained.\n"
     ]
    }
   ],
   "source": [
    "triplet_extractor = pipeline('text2text-generation', model='Babelscape/rebel-large', tokenizer='Babelscape/rebel-large')"
   ],
   "metadata": {
    "collapsed": false,
    "ExecuteTime": {
     "end_time": "2024-02-09T14:25:09.890809094Z",
     "start_time": "2024-02-09T14:25:06.257351088Z"
    }
   },
   "id": "a494f246357bdf52",
   "execution_count": 15
  },
  {
   "cell_type": "code",
   "outputs": [
    {
     "data": {
      "text/plain": "'A variety of AI systems can generate large quantities of synthetic content that becomes increasingly hard for humans to distinguish from human-generated and authentic content. The wide availability and increasing capabilities of those systems have a significant impact on the integrity and trust in the information ecosystem, raising new risks of misinformation and manipulation at scale, fraud, impersonation and consumer deception. In the light of those impacts, the fast technological pace and the need for new methods and techniques to trace origin of information, it is appropriate to require providers of those systems to embed technical solutions that enable marking in a machine readable format and detection that the output has been generated or manipulated by an AI system and not a human. Such techniques and methods should be sufficiently reliable, interoperable, effective and robust as far as this is technically feasible, taking into account available techniques or a combination of such techniques, such as watermarks, metadata identifications, cryptographic methods for proving provenance and authenticity of content, logging methods, fingerprints or other techniques, as may be appropriate. When implementing this obligation, providers should also take into account the specificities and the limitations of the different types of content and the relevant technological and market developments in the field, as reflected in the generally acknowledged state-of-the-art. Such techniques and methods can be implemented at the level of the system or at the level of the model, including general-purpose AI models generating content, thereby facilitating fulfilment of this obligation by the downstream provider of the AI system. To remain proportionate, it is appropriate to envisage that this marking obligation should not cover AI systems performing primarily an assistive function for standard editing or AI systems not substantially altering the input data provided by the deployer or the semantics thereof.'"
     },
     "execution_count": 16,
     "metadata": {},
     "output_type": "execute_result"
    }
   ],
   "source": [
    "# Get sample AI Act text\n",
    "with open('sample_knowledge_graph_section.txt', 'r') as file:\n",
    "    # Read the file content into a string\n",
    "    ai_act_string = file.read()\n",
    "\n",
    "ai_act_string"
   ],
   "metadata": {
    "collapsed": false,
    "ExecuteTime": {
     "end_time": "2024-02-09T14:25:11.462798665Z",
     "start_time": "2024-02-09T14:25:11.459410498Z"
    }
   },
   "id": "74303c016240a7ac",
   "execution_count": 16
  },
  {
   "cell_type": "markdown",
   "source": [
    "## Testing on the sample AI Act paragraph"
   ],
   "metadata": {
    "collapsed": false
   },
   "id": "174b635c886abbe2"
  },
  {
   "cell_type": "code",
   "outputs": [
    {
     "data": {
      "text/plain": "'<s><triplet> impersonation <subj> fraud <obj> subclass of</s>'"
     },
     "execution_count": 17,
     "metadata": {},
     "output_type": "execute_result"
    }
   ],
   "source": [
    "# We need to use the tokenizr manually since we need special tokens.\n",
    "extracted_text = triplet_extractor.tokenizer.batch_decode([triplet_extractor(ai_act_string, return_tensors=True, return_text=False)[0][\"generated_token_ids\"]])\n",
    "extracted_text[0]"
   ],
   "metadata": {
    "collapsed": false,
    "ExecuteTime": {
     "end_time": "2024-02-09T14:25:26.355808223Z",
     "start_time": "2024-02-09T14:25:24.846934188Z"
    }
   },
   "id": "fb1eddcc67947f91",
   "execution_count": 17
  },
  {
   "cell_type": "markdown",
   "source": [
    "## Testing on a single sentence from the AI Act"
   ],
   "metadata": {
    "collapsed": false
   },
   "id": "32584f49be1a5618"
  },
  {
   "cell_type": "code",
   "outputs": [
    {
     "data": {
      "text/plain": "'<s><triplet> synthetic content <subj> authentic content <obj> opposite of <triplet> authentic content <subj> synthetic content <obj> opposite of</s>'"
     },
     "execution_count": 20,
     "metadata": {},
     "output_type": "execute_result"
    }
   ],
   "source": [
    "# Testing on a shorter string\n",
    "ai_act_one_sentence = \"A variety of AI systems can generate large quantities of synthetic content that becomes increasingly hard for humans to distinguish from human-generated and authentic content.\"\n",
    "\n",
    "extracted_text = triplet_extractor.tokenizer.batch_decode([triplet_extractor(ai_act_one_sentence,  return_tensors=True, return_text=False)[0][\"generated_token_ids\"]])\n",
    "extracted_text[0]"
   ],
   "metadata": {
    "collapsed": true,
    "ExecuteTime": {
     "end_time": "2024-02-09T14:35:48.231927724Z",
     "start_time": "2024-02-09T14:35:46.570867737Z"
    }
   },
   "id": "initial_id",
   "execution_count": 20
  },
  {
   "cell_type": "markdown",
   "source": [
    "## Testing on three sentences from the AI Act"
   ],
   "metadata": {
    "collapsed": false
   },
   "id": "e4d5efb19cf43970"
  },
  {
   "cell_type": "code",
   "outputs": [
    {
     "data": {
      "text/plain": "'<s><triplet> impersonation <subj> fraud <obj> subclass of</s>'"
     },
     "execution_count": 23,
     "metadata": {},
     "output_type": "execute_result"
    }
   ],
   "source": [
    "ai_act_three_sentences = \"A variety of AI systems can generate large quantities of synthetic content that becomes increasingly hard for humans to distinguish from human-generated and authentic content. The wide availability and increasing capabilities of those systems have a significant impact on the integrity and trust in the information ecosystem, raising new risks of misinformation and manipulation at scale, fraud, impersonation and consumer deception.\"\n",
    "\n",
    "extracted_text = triplet_extractor.tokenizer.batch_decode([triplet_extractor(ai_act_three_sentences,  return_tensors=True, return_text=False)[0][\"generated_token_ids\"]])\n",
    "extracted_text[0]"
   ],
   "metadata": {
    "collapsed": false,
    "ExecuteTime": {
     "end_time": "2024-02-09T14:38:37.643184780Z",
     "start_time": "2024-02-09T14:38:36.076360580Z"
    }
   },
   "id": "b23fb2037192cc25",
   "execution_count": 23
  },
  {
   "cell_type": "markdown",
   "source": [
    "# First Impresions\n",
    "\n",
    "The model seems to only output one or two relations, regardless of the input length.\n",
    "\n",
    "## Passing in the sample paragraph one sentence at a time"
   ],
   "metadata": {
    "collapsed": false
   },
   "id": "9cf682b24e95dc0b"
  },
  {
   "cell_type": "code",
   "outputs": [
    {
     "data": {
      "text/plain": "''"
     },
     "execution_count": 26,
     "metadata": {},
     "output_type": "execute_result"
    }
   ],
   "source": [
    "sentences = ai_act_string.split(\".\")\n",
    "\n",
    "# The last sentence is empty, let's test what the model outputs\n",
    "sentences[7]"
   ],
   "metadata": {
    "collapsed": false,
    "ExecuteTime": {
     "end_time": "2024-02-09T14:47:32.999170265Z",
     "start_time": "2024-02-09T14:47:32.952234178Z"
    }
   },
   "id": "f13549af08b5d7b1",
   "execution_count": 26
  },
  {
   "cell_type": "code",
   "outputs": [
    {
     "name": "stdout",
     "output_type": "stream",
     "text": [
      "<s><triplet> synthetic content <subj> authentic content <obj> opposite of <triplet> authentic content <subj> synthetic content <obj> opposite of</s>\n",
      "<s><triplet> impersonation <subj> fraud <obj> subclass of</s>\n",
      "<s><triplet> AI <subj> AI system <obj> studies <triplet> AI system <subj> AI <obj> studied by</s>\n",
      "<s><triplet> watermark <subj> metadata <obj> subclass of</s>\n",
      "<s><triplet> state-of-the-art <subj> technological <obj> instance of</s>\n",
      "<s><triplet> AI model <subj> model <obj> subclass of</s>\n",
      "<s><triplet> assistive function <subj> AI systems <obj> subclass of</s>\n",
      "<s><triplet> World War I <subj> World War II <obj> followed by <triplet> World War II <subj> World War I <obj> follows</s>\n"
     ]
    }
   ],
   "source": [
    "for sentence in sentences:\n",
    "    extracted_text = triplet_extractor.tokenizer.batch_decode([triplet_extractor(sentence,  return_tensors=True, return_text=False)[0][\"generated_token_ids\"]])\n",
    "    print(extracted_text[0])"
   ],
   "metadata": {
    "collapsed": false,
    "ExecuteTime": {
     "end_time": "2024-02-09T14:41:13.171730204Z",
     "start_time": "2024-02-09T14:41:01.558696046Z"
    }
   },
   "id": "783657a5e48bcce5",
   "execution_count": 24
  },
  {
   "cell_type": "markdown",
   "source": [
    "# Hallucinaitons\n",
    "The model hallucinate relations if passed in an empty string. For example, the model outputted the triplet (World War I, followed by, World War II)"
   ],
   "metadata": {
    "collapsed": false
   },
   "id": "4e4a33d89c06bf5d"
  },
  {
   "cell_type": "code",
   "outputs": [],
   "source": [],
   "metadata": {
    "collapsed": false
   },
   "id": "7cadfe2e2ef88808"
  }
 ],
 "metadata": {
  "kernelspec": {
   "display_name": "Python 3",
   "language": "python",
   "name": "python3"
  },
  "language_info": {
   "codemirror_mode": {
    "name": "ipython",
    "version": 2
   },
   "file_extension": ".py",
   "mimetype": "text/x-python",
   "name": "python",
   "nbconvert_exporter": "python",
   "pygments_lexer": "ipython2",
   "version": "2.7.6"
  }
 },
 "nbformat": 4,
 "nbformat_minor": 5
}
