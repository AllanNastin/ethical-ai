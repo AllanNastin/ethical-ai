{
 "cells": [
  {
   "cell_type": "code",
   "execution_count": 1,
   "id": "initial_id",
   "metadata": {
    "collapsed": true,
    "ExecuteTime": {
     "end_time": "2024-04-04T14:05:49.398565Z",
     "start_time": "2024-04-04T14:05:36.942732Z"
    }
   },
   "outputs": [],
   "source": [
    "from parse_EU_act import parse_EU_act\n",
    "\n",
    "ai_act = parse_EU_act(\"ai_act/ai-act-draft.pdf\")"
   ]
  },
  {
   "cell_type": "code",
   "outputs": [
    {
     "data": {
      "text/plain": "['INTRODUCTION The Commission adopted the proposal for a Regulation laying down harmonised rules on artificial intelligence (Artificial Intelligence Act, hereinafter',\n 'the AI Act) on 21 April 2021',\n 'The Council unanimously adopted its General Approach on the proposal on 6 December 2022, while the European Parliament (hereinafter',\n 'the EP) confirmed its position in a plenary vote on 14 June 2023',\n 'On 14 June 2023, 18 July 2023, 2-3 October 2023 and 24 October 2023 the first four political trilogues were held, during which some of the less controversial parts of the proposal were agreed and compromise was also found on the provisions concerning measures in support of innovation, as well as and on the mechanism for classification of AI systems as high-risk']"
     },
     "execution_count": 2,
     "metadata": {},
     "output_type": "execute_result"
    }
   ],
   "source": [
    "import re\n",
    "from auto_label_function import set_to_lower, filter_text, paragraph_to_labeled_sentences, better_studio\n",
    "\n",
    "set_to_lower()\n",
    "\n",
    "ai_act = filter_text(ai_act)\n",
    "ai_act = ai_act.replace(\"\\n\", \" \")\n",
    "ai_act = ai_act.replace(\"  \", \" \")\n",
    "sentences = re.split(r'[.;:]', ai_act)\n",
    "sentences = [s.strip() for s in sentences if len(s.strip()) > 7]\n",
    "for i in range(len(sentences)):\n",
    "    sentences[i] = sentences[i].replace(\"\\n\", \"\")\n",
    "    while len(sentences[i]) != 0 and (sentences[i][0] == \" \"):\n",
    "        sentences[i] = sentences[i][1:]\n",
    "sentences[:5]"
   ],
   "metadata": {
    "collapsed": false,
    "ExecuteTime": {
     "end_time": "2024-04-04T14:05:51.911410Z",
     "start_time": "2024-04-04T14:05:49.399672Z"
    }
   },
   "id": "9120cc028b159ce1",
   "execution_count": 2
  },
  {
   "cell_type": "code",
   "outputs": [
    {
     "data": {
      "text/plain": "[{'id': 2,\n  'data': {'text': 'INTRODUCTION The Commission adopted the proposal for a Regulation laying down harmonised rules on artificial intelligence (Artificial Intelligence Act, hereinafter'},\n  'predictions': [{'result': [{'value': {'start': 13,\n       'end': 27,\n       'text': 'The Commission',\n       'labels': ['ORG']},\n      'id': 'kzgwhaafdmlmctfa',\n      'from_name': 'label',\n      'to_name': 'text',\n      'type': 'labels',\n      'origin': 'auto'},\n     {'value': {'start': 55,\n       'end': 65,\n       'text': 'Regulation',\n       'labels': ['DOC']},\n      'id': 'ksxsjkxvcullhhwz',\n      'from_name': 'label',\n      'to_name': 'text',\n      'type': 'labels',\n      'origin': 'auto'},\n     {'value': {'start': 98,\n       'end': 121,\n       'text': 'artificial intelligence',\n       'labels': ['ALG']},\n      'id': 'ohfhgntderbvcfhl',\n      'from_name': 'label',\n      'to_name': 'text',\n      'type': 'labels',\n      'origin': 'auto'},\n     {'value': {'start': 123,\n       'end': 146,\n       'text': 'Artificial Intelligence',\n       'labels': ['ALG']},\n      'id': 'eofqpowkylrikwpq',\n      'from_name': 'label',\n      'to_name': 'text',\n      'type': 'labels',\n      'origin': 'auto'}]}]}]"
     },
     "execution_count": 3,
     "metadata": {},
     "output_type": "execute_result"
    }
   ],
   "source": [
    "auto_ner_output = [better_studio(*paragraph_to_labeled_sentences(sentence)) for sentence in sentences]\n",
    "auto_ner_output[0]"
   ],
   "metadata": {
    "collapsed": false,
    "ExecuteTime": {
     "end_time": "2024-04-04T14:06:03.157927Z",
     "start_time": "2024-04-04T14:05:51.912539Z"
    }
   },
   "id": "fb6e47bd236e741d",
   "execution_count": 3
  },
  {
   "cell_type": "code",
   "outputs": [],
   "source": [
    "# Filter the dataset for empty entities\n",
    "for sentence in auto_ner_output:\n",
    "    indices_to_remove = []\n",
    "    for i, entity in enumerate(sentence[0][\"predictions\"][0][\"result\"]):\n",
    "        if not entity[\"value\"][\"text\"].strip():\n",
    "            indices_to_remove.append(i)\n",
    "    for index in sorted(indices_to_remove, reverse=True):\n",
    "        del sentence[0][\"predictions\"][0][\"result\"][index]"
   ],
   "metadata": {
    "collapsed": false,
    "ExecuteTime": {
     "end_time": "2024-04-04T14:06:03.165830Z",
     "start_time": "2024-04-04T14:06:03.159417Z"
    }
   },
   "id": "e3d85cc504dd3a5e",
   "execution_count": 4
  },
  {
   "cell_type": "code",
   "outputs": [
    {
     "data": {
      "text/plain": "[{'id': 2,\n  'data': {'text': 'An advisory forum will provide stakeholder input to the Commission (including the AI Office) and to the AI Board'},\n  'predictions': [{'result': [{'value': {'start': 3,\n       'end': 17,\n       'text': 'advisory forum',\n       'labels': ['ORG']},\n      'id': 'hszstbhouiuxfwcz',\n      'from_name': 'label',\n      'to_name': 'text',\n      'type': 'labels',\n      'origin': 'auto'},\n     {'value': {'start': 52,\n       'end': 66,\n       'text': 'the Commission',\n       'labels': ['ORG']},\n      'id': 'qxldwnzsamjddjnf',\n      'from_name': 'label',\n      'to_name': 'text',\n      'type': 'labels',\n      'origin': 'auto'},\n     {'value': {'start': 78,\n       'end': 91,\n       'text': 'the AI Office',\n       'labels': ['ORG']},\n      'id': 'hqsxpdxzidldsmix',\n      'from_name': 'label',\n      'to_name': 'text',\n      'type': 'labels',\n      'origin': 'auto'},\n     {'value': {'start': 104, 'end': 106, 'text': 'AI', 'labels': ['ALG']},\n      'id': 'feoioopfqreusnne',\n      'from_name': 'label',\n      'to_name': 'text',\n      'type': 'labels',\n      'origin': 'auto'}]}]}]"
     },
     "execution_count": 5,
     "metadata": {},
     "output_type": "execute_result"
    }
   ],
   "source": [
    "auto_ner_output[66]"
   ],
   "metadata": {
    "collapsed": false,
    "ExecuteTime": {
     "end_time": "2024-04-04T14:06:03.175593Z",
     "start_time": "2024-04-04T14:06:03.166686Z"
    }
   },
   "id": "d6169eafc3e46af7",
   "execution_count": 5
  },
  {
   "cell_type": "code",
   "outputs": [
    {
     "data": {
      "text/plain": "{'vertexSet': [[{'pos': [62, 64],\n    'type': 'SYS',\n    'sent_id': 0,\n    'name': 'AI systems'}],\n  [{'pos': [65, 66], 'type': 'ETH', 'sent_id': 0, 'name': 'high-risk'}]],\n 'sents': [['On',\n   '14',\n   'June',\n   '2023',\n   ',',\n   '18',\n   'July',\n   '2023',\n   ',',\n   '2-3',\n   'October',\n   '2023',\n   'and',\n   '24',\n   'October',\n   '2023',\n   'the',\n   'first',\n   'four',\n   'political',\n   'trilogues',\n   'were',\n   'held',\n   ',',\n   'during',\n   'which',\n   'some',\n   'of',\n   'the',\n   'less',\n   'controversial',\n   'parts',\n   'of',\n   'the',\n   'proposal',\n   'were',\n   'agreed',\n   'and',\n   'compromise',\n   'was',\n   'also',\n   'found',\n   'on',\n   'the',\n   'provisions',\n   'concerning',\n   'measures',\n   'in',\n   'support',\n   'of',\n   'innovation',\n   ',',\n   'as',\n   'well',\n   'as',\n   'and',\n   'on',\n   'the',\n   'mechanism',\n   'for',\n   'classification',\n   'of',\n   'AI',\n   'systems',\n   'as',\n   'high-risk']],\n 'labels': [{'r': '', 'h': '', 't': '', 'evidence': []}],\n 'title': 'Legal text about AI'}"
     },
     "execution_count": 6,
     "metadata": {},
     "output_type": "execute_result"
    }
   ],
   "source": [
    "from auto_ner_to_docred import auto_ner_to_docred\n",
    "\n",
    "# for i in range(len(auto_ner_output)):\n",
    "#     print(i)\n",
    "#     auto_ner_to_docred(auto_ner_output[i])\n",
    "\n",
    "docred_format = [auto_ner_to_docred(sentence)[0] for sentence in auto_ner_output]\n",
    "docred_format[4]"
   ],
   "metadata": {
    "collapsed": false,
    "ExecuteTime": {
     "end_time": "2024-04-04T14:06:03.339966Z",
     "start_time": "2024-04-04T14:06:03.176333Z"
    }
   },
   "id": "d99b4d68e0de6a9a",
   "execution_count": 6
  },
  {
   "cell_type": "code",
   "outputs": [],
   "source": [
    "docred_format_filtered = [element for element in docred_format if len(element[\"vertexSet\"]) > 1 and len(element[\"vertexSet\"][0]) > 1]"
   ],
   "metadata": {
    "collapsed": false,
    "ExecuteTime": {
     "end_time": "2024-04-04T14:06:03.343680Z",
     "start_time": "2024-04-04T14:06:03.340752Z"
    }
   },
   "id": "921c5f4fdd4a618d",
   "execution_count": 7
  },
  {
   "cell_type": "code",
   "outputs": [
    {
     "data": {
      "text/plain": "{'vertexSet': [[{'pos': [2, 4],\n    'type': 'ORG',\n    'sent_id': 0,\n    'name': 'law enforcement'},\n   {'pos': [13, 15], 'type': 'ORG', 'sent_id': 0, 'name': 'law enforcement'}],\n  [{'pos': [28, 30],\n    'type': 'SYS',\n    'sent_id': 0,\n    'name': ' conformity assessmen'}],\n  [{'pos': [36, 37], 'type': 'ACT', 'sent_id': 0, 'name': ' testin'}],\n  [{'pos': [39, 42],\n    'type': 'SYS',\n    'sent_id': 0,\n    'name': ' high-risk AI system'}]],\n 'sents': [['Exceptions',\n   'for',\n   'law',\n   'enforcement',\n   'authorities',\n   'The',\n   'compromise',\n   'agreement',\n   'preserves',\n   'all',\n   'the',\n   'exceptions',\n   'for',\n   'law',\n   'enforcement',\n   'authorities',\n   'that',\n   'were',\n   'added',\n   'in',\n   'the',\n   'Council’s',\n   'revised',\n   'mandate',\n   ',',\n   'including',\n   'derogation',\n   'from',\n   'conformity',\n   'assessment',\n   'and',\n   'the',\n   'possibility',\n   'to',\n   'start',\n   'real',\n   'world',\n   'testing',\n   'of',\n   'high-risk',\n   'AI',\n   'systems',\n   'without',\n   'prior',\n   'authorisation']],\n 'labels': [{'r': '', 'h': '', 't': '', 'evidence': []}],\n 'title': 'Legal text about AI'}"
     },
     "execution_count": 8,
     "metadata": {},
     "output_type": "execute_result"
    }
   ],
   "source": [
    "docred_format_filtered[4]"
   ],
   "metadata": {
    "collapsed": false,
    "ExecuteTime": {
     "end_time": "2024-04-04T14:06:03.353097Z",
     "start_time": "2024-04-04T14:06:03.344380Z"
    }
   },
   "id": "853db39954ff7996",
   "execution_count": 8
  },
  {
   "cell_type": "code",
   "outputs": [
    {
     "data": {
      "text/plain": "{'vertexSet': [[{'pos': [10, 11],\n    'type': 'ETH',\n    'sent_id': 0,\n    'name': 'risks'},\n   {'pos': [17, 18], 'type': 'ETH', 'sent_id': 0, 'name': 'risks'}],\n  [{'pos': [14, 15], 'type': 'DOC', 'sent_id': 0, 'name': 'Regulation'}],\n  [{'pos': [19, 20], 'type': 'ETH', 'sent_id': 0, 'name': 'health'}],\n  [{'pos': [21, 22], 'type': 'ETH', 'sent_id': 0, 'name': 'safety'}],\n  [{'pos': [24, 25], 'type': 'ETH', 'sent_id': 0, 'name': 'rights'}]],\n 'sents': [['However',\n   ',',\n   'all',\n   'subsequent',\n   'references',\n   'in',\n   'the',\n   'text',\n   'to',\n   'the',\n   'risks',\n   'addressed',\n   'by',\n   'the',\n   'Regulation',\n   'only',\n   'include',\n   'risks',\n   'to',\n   'health',\n   ',',\n   'safety',\n   'and',\n   'fundamental',\n   'rights',\n   ',',\n   'in',\n   'line',\n   'with',\n   'the',\n   'Council’s',\n   'mandate']],\n 'title': 'Legal text about AI'}"
     },
     "execution_count": 9,
     "metadata": {},
     "output_type": "execute_result"
    }
   ],
   "source": [
    "for element in docred_format_filtered:\n",
    "    element.pop(\"labels\", None)\n",
    "docred_format_filtered[0]"
   ],
   "metadata": {
    "collapsed": false,
    "ExecuteTime": {
     "end_time": "2024-04-04T14:06:03.363535Z",
     "start_time": "2024-04-04T14:06:03.353777Z"
    }
   },
   "id": "975e279372f5a2c3",
   "execution_count": 9
  },
  {
   "cell_type": "code",
   "outputs": [],
   "source": [
    "import json\n",
    "\n",
    "with open(\"ai_act_docred_format.json\", \"w\") as outfile:\n",
    "    json.dump(docred_format_filtered, outfile)"
   ],
   "metadata": {
    "collapsed": false,
    "ExecuteTime": {
     "end_time": "2024-04-04T14:06:03.382920Z",
     "start_time": "2024-04-04T14:06:03.365029Z"
    }
   },
   "id": "ef8d8d9f295218e1",
   "execution_count": 10
  },
  {
   "cell_type": "code",
   "outputs": [],
   "source": [
    "with open(\"short_ai_act_docred_format.json\", \"w\") as outfile:\n",
    "    json.dump(docred_format_filtered[:10], outfile, indent=4)"
   ],
   "metadata": {
    "collapsed": false,
    "ExecuteTime": {
     "end_time": "2024-04-04T14:06:03.387002Z",
     "start_time": "2024-04-04T14:06:03.383832Z"
    }
   },
   "id": "133c6b7b80a68f56",
   "execution_count": 11
  }
 ],
 "metadata": {
  "kernelspec": {
   "display_name": "Python 3",
   "language": "python",
   "name": "python3"
  },
  "language_info": {
   "codemirror_mode": {
    "name": "ipython",
    "version": 2
   },
   "file_extension": ".py",
   "mimetype": "text/x-python",
   "name": "python",
   "nbconvert_exporter": "python",
   "pygments_lexer": "ipython2",
   "version": "2.7.6"
  }
 },
 "nbformat": 4,
 "nbformat_minor": 5
}
