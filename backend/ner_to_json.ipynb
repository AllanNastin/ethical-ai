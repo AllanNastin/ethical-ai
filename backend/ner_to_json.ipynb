{
 "cells": [
  {
   "cell_type": "code",
   "outputs": [],
   "source": [
    "import re\n",
    "from transformers import AutoTokenizer, AutoModelForTokenClassification\n",
    "from transformers import pipeline"
   ],
   "metadata": {
    "collapsed": false,
    "ExecuteTime": {
     "end_time": "2024-03-11T15:34:34.274785Z",
     "start_time": "2024-03-11T15:34:34.142124Z"
    }
   },
   "id": "a989eb1ff66e9813",
   "execution_count": 10
  },
  {
   "cell_type": "code",
   "outputs": [
    {
     "data": {
      "text/plain": "['INTRODUCTION  The  Commission  adopted  the  proposal  for  a  Regulation  laying  down  harmonised  rules  on  artificial intelligence (Artificial Intelligence Act, hereinafter',\n 'the AI Act) on 21 April 2021',\n 'The  Council  unanimously  adopted  its  General  Approach  on  the  proposal  on  6  December  2022, while the European Parliament (hereinafter',\n 'the EP) confirmed its position in a plenary  vote on 14 June 2023',\n 'On 14 June 2023, 18 July 2023, 2-3 October 2023 and 24 October 2023 the first four political  trilogues  were  held,  during  which  some  of  the  less  controversial  parts  of  the  proposal  were  agreed and compromise was also found on the provisions concerning measures in support of  innovation,  as  well  as  and  on  the  mechanism  for  classification  of  AI  systems  as  high-risk']"
     },
     "execution_count": 16,
     "metadata": {},
     "output_type": "execute_result"
    }
   ],
   "source": [
    "# Read the AI Act\n",
    "with open(\"ai_act/ai-act.txt\", \"r\") as file:\n",
    "    ai_act = file.read()\n",
    "\n",
    "# Split the AI Act into sentences\n",
    "ai_act = ai_act.replace(\"\\n\", \" \")\n",
    "sentences = re.split(r'[.;:]', ai_act)\n",
    "sentences = [s.strip() for s in sentences if len(s.strip()) > 7]\n",
    "sentences[:5]"
   ],
   "metadata": {
    "collapsed": false,
    "ExecuteTime": {
     "end_time": "2024-03-11T15:39:32.780797Z",
     "start_time": "2024-03-11T15:39:32.762973Z"
    }
   },
   "id": "f462def6f1a1f7fb",
   "execution_count": 16
  },
  {
   "cell_type": "markdown",
   "source": [
    "`sentences` is a list of strings"
   ],
   "metadata": {
    "collapsed": false
   },
   "id": "8983db8dbd828f0d"
  },
  {
   "cell_type": "code",
   "outputs": [
    {
     "name": "stderr",
     "output_type": "stream",
     "text": [
      "Some weights of the model checkpoint at dslim/bert-large-NER were not used when initializing BertForTokenClassification: ['bert.pooler.dense.bias', 'bert.pooler.dense.weight']\n",
      "- This IS expected if you are initializing BertForTokenClassification from the checkpoint of a model trained on another task or with another architecture (e.g. initializing a BertForSequenceClassification model from a BertForPreTraining model).\n",
      "- This IS NOT expected if you are initializing BertForTokenClassification from the checkpoint of a model that you expect to be exactly identical (initializing a BertForSequenceClassification model from a BertForSequenceClassification model).\n"
     ]
    },
    {
     "data": {
      "text/plain": "[[{'entity': 'B-PER',\n   'score': 0.9971501,\n   'index': 4,\n   'word': 'Wolfgang',\n   'start': 11,\n   'end': 19},\n  {'entity': 'B-LOC',\n   'score': 0.9986046,\n   'index': 9,\n   'word': 'Berlin',\n   'start': 34,\n   'end': 40}],\n [{'entity': 'B-PER',\n   'score': 0.99836797,\n   'index': 4,\n   'word': 'Dylan',\n   'start': 11,\n   'end': 16},\n  {'entity': 'B-LOC',\n   'score': 0.9990356,\n   'index': 9,\n   'word': 'Dublin',\n   'start': 31,\n   'end': 37}]]"
     },
     "execution_count": 13,
     "metadata": {},
     "output_type": "execute_result"
    }
   ],
   "source": [
    "tokenizer = AutoTokenizer.from_pretrained(\"dslim/bert-large-NER\")\n",
    "model = AutoModelForTokenClassification.from_pretrained(\"dslim/bert-large-NER\")\n",
    "\n",
    "nlp = pipeline(\"ner\", model=model, tokenizer=tokenizer)\n",
    "examples = [\"My name is Wolfgang and I live in Berlin\",\n",
    "            \"My name is Dylan and I live in Dublin\"]\n",
    "\n",
    "ner_results = nlp(examples)\n",
    "ner_results"
   ],
   "metadata": {
    "collapsed": false,
    "ExecuteTime": {
     "end_time": "2024-03-11T15:37:25.029488Z",
     "start_time": "2024-03-11T15:37:20.936083Z"
    }
   },
   "id": "1c8190e4a06aebe6",
   "execution_count": 13
  },
  {
   "cell_type": "markdown",
   "source": [
    "`ner_results` has an outer list (containing each sentence). Each sentence is itself a list of entities. Each entity is represented as a dictionary."
   ],
   "metadata": {
    "collapsed": false
   },
   "id": "82e1d26cfeb83b0d"
  },
  {
   "cell_type": "code",
   "outputs": [],
   "source": [],
   "metadata": {
    "collapsed": false
   },
   "id": "da8f66afeb74b672"
  }
 ],
 "metadata": {
  "kernelspec": {
   "display_name": "Python 3",
   "language": "python",
   "name": "python3"
  },
  "language_info": {
   "codemirror_mode": {
    "name": "ipython",
    "version": 2
   },
   "file_extension": ".py",
   "mimetype": "text/x-python",
   "name": "python",
   "nbconvert_exporter": "python",
   "pygments_lexer": "ipython2",
   "version": "2.7.6"
  }
 },
 "nbformat": 4,
 "nbformat_minor": 5
}
