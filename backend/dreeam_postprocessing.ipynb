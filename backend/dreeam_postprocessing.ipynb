{
 "cells": [
  {
   "cell_type": "code",
   "execution_count": 1,
   "id": "initial_id",
   "metadata": {
    "collapsed": true,
    "ExecuteTime": {
     "end_time": "2024-04-04T14:41:49.243805Z",
     "start_time": "2024-04-04T14:41:49.231204Z"
    }
   },
   "outputs": [],
   "source": [
    "import json\n",
    "\n",
    "with open(\"dreeam/output_from_dreeam.json\", \"r\") as file:\n",
    "    dreeam_output = json.load(file)\n",
    "\n",
    "with open(\"dataset/dataset/docred/test.json\", \"r\") as file:\n",
    "    dreeam_input = json.load(file)"
   ]
  },
  {
   "cell_type": "code",
   "outputs": [
    {
     "data": {
      "text/plain": "105"
     },
     "execution_count": 20,
     "metadata": {},
     "output_type": "execute_result"
    }
   ],
   "source": [
    "len(dreeam_output)"
   ],
   "metadata": {
    "collapsed": false,
    "ExecuteTime": {
     "end_time": "2024-04-04T15:41:04.977112Z",
     "start_time": "2024-04-04T15:41:04.974592Z"
    }
   },
   "id": "b65a4f6551a85b91",
   "execution_count": 20
  },
  {
   "cell_type": "code",
   "outputs": [],
   "source": [
    "with open(\"dataset/meta/rel_info.json\", \"r\") as file:\n",
    "    rel_info = json.load(file)"
   ],
   "metadata": {
    "collapsed": false,
    "ExecuteTime": {
     "end_time": "2024-04-04T14:51:24.599209Z",
     "start_time": "2024-04-04T14:51:24.596363Z"
    }
   },
   "id": "d26fbbc12e814a6b",
   "execution_count": 5
  },
  {
   "cell_type": "code",
   "outputs": [
    {
     "data": {
      "text/plain": "{'input_idx': '9', 'h_idx': 6, 't_idx': 5, 'r': 'P3'}"
     },
     "execution_count": 3,
     "metadata": {},
     "output_type": "execute_result"
    }
   ],
   "source": [
    "relations = [{\"input_idx\": relation[\"title\"].split()[-1], \"h_idx\": relation[\"h_idx\"], \"t_idx\": relation[\"t_idx\"], \"r\": relation[\"r\"]} for relation in dreeam_output]\n",
    "relations[0]"
   ],
   "metadata": {
    "collapsed": false,
    "ExecuteTime": {
     "end_time": "2024-04-04T14:47:26.920397Z",
     "start_time": "2024-04-04T14:47:26.915211Z"
    }
   },
   "id": "ee1e9a895db9c5f5",
   "execution_count": 3
  },
  {
   "cell_type": "code",
   "outputs": [
    {
     "data": {
      "text/plain": "{'vertexSet': [[{'pos': [10, 11],\n    'type': 'ETH',\n    'sent_id': 0,\n    'name': 'risks'},\n   {'pos': [17, 18], 'type': 'ETH', 'sent_id': 0, 'name': 'risks'}],\n  [{'pos': [14, 15], 'type': 'DOC', 'sent_id': 0, 'name': 'Regulation'}],\n  [{'pos': [19, 20], 'type': 'ETH', 'sent_id': 0, 'name': 'health'}],\n  [{'pos': [21, 22], 'type': 'ETH', 'sent_id': 0, 'name': 'safety'}],\n  [{'pos': [24, 25], 'type': 'ETH', 'sent_id': 0, 'name': 'rights'}]],\n 'sents': [['However',\n   ',',\n   'all',\n   'subsequent',\n   'references',\n   'in',\n   'the',\n   'text',\n   'to',\n   'the',\n   'risks',\n   'addressed',\n   'by',\n   'the',\n   'Regulation',\n   'only',\n   'include',\n   'risks',\n   'to',\n   'health',\n   ',',\n   'safety',\n   'and',\n   'fundamental',\n   'rights',\n   ',',\n   'in',\n   'line',\n   'with',\n   'the',\n   'Council’s',\n   'mandate']],\n 'title': 'Legal text about AI, 0'}"
     },
     "execution_count": 4,
     "metadata": {},
     "output_type": "execute_result"
    }
   ],
   "source": [
    "dreeam_input[0]"
   ],
   "metadata": {
    "collapsed": false,
    "ExecuteTime": {
     "end_time": "2024-04-04T14:49:05.940221Z",
     "start_time": "2024-04-04T14:49:05.934406Z"
    }
   },
   "id": "76db176e2aaa8902",
   "execution_count": 4
  },
  {
   "cell_type": "code",
   "outputs": [
    {
     "name": "stdout",
     "output_type": "stream",
     "text": [
      "Hi\n"
     ]
    }
   ],
   "source": [
    "str1 = \"Hi\"\n",
    "if str1 == \"Hi\":\n",
    "    print(\"Hi\")"
   ],
   "metadata": {
    "collapsed": false,
    "ExecuteTime": {
     "end_time": "2024-04-04T15:23:26.308677Z",
     "start_time": "2024-04-04T15:23:26.305755Z"
    }
   },
   "id": "619969af0e4ded15",
   "execution_count": 15
  },
  {
   "cell_type": "code",
   "outputs": [
    {
     "data": {
      "text/plain": "[('persons', 'are_central_to', 'rights'),\n ('systems', 'utlises', 'biometric data'),\n ('providers', 'interact_with', 'AI systems'),\n (' Regulatio', 'require', ' complianc'),\n (' provider', 'interact_with', ' system'),\n ('natural persons', 'are_central_to', 'safety'),\n ('infrastructure', 'is_affected_by', 'safety'),\n ('person', 'are_central_to', 'safety'),\n ('natural persons', 'utlises', 'systems'),\n ('systems', 'is_affected_by', 'personal data'),\n ('infrastructure', 'is_affected_by', 'high-risk'),\n ('infrastructure', 'is_affected_by', 'safety components'),\n ('infrastructure', 'involved_in', 'failure'),\n ('infrastructure', 'involved_in', 'malfunctioning'),\n ('infrastructure', 'is_affected_by', 'health'),\n ('AI systems', 'is_affected_by', 'high-risk'),\n ('AI systems', 'is_affected_by', 'safety components'),\n ('AI systems', 'involved_in', 'failure'),\n ('AI systems', 'involved_in', 'malfunctioning'),\n ('AI systems', 'is_affected_by', 'health'),\n ('failure', 'consider', 'high-risk'),\n ('failure', 'consider', 'safety components'),\n ('failure', 'consider', 'health'),\n ('malfunctioning', 'consider', 'high-risk'),\n ('malfunctioning', 'consider', 'safety components'),\n ('malfunctioning', 'consider', 'health'),\n ('persons', 'are_central_to', 'high-risk'),\n ('persons', 'are_central_to', 'safety components'),\n ('persons', 'perform_in', 'failure'),\n ('persons', 'perform_in', 'malfunctioning'),\n ('persons', 'are_central_to', 'health'),\n ('Regulation', 'governs_or_guides', 'personal data'),\n ('training', 'consider', 'compliance'),\n ('training', 'require', 'compliance'),\n ('testing', 'consider', 'compliance'),\n ('high-risk AI systems', 'is_affected_by', 'compliance'),\n ('high-risk AI systems', 'is_affected_by', 'cybersecurity'),\n ('Regulation', 'governs_or_guides', 'AI systems'),\n ('Regulation', 'governs_or_guides', 'high-risk AI systems'),\n ('high-risk AI systems', 'is_affected_by', 'compliance'),\n ('components', 'require', 'documentation'),\n ('deployer', 'interact_with', 'AI systems'),\n ('provider', 'interact_with', 'deployer'),\n ('provider', 'interact_with', 'high-risk'),\n ('provider', 'interact_with', 'AI systems'),\n ('provider', 'interact_with', 'instructions for use'),\n ('AI', 'involved_in', 'generation of content'),\n ('models', 'involved_in', 'generation of content'),\n ('training', 'require', 'compliance'),\n ('providers', 'interact_with', 'AI'),\n ('providers', 'interact_with', 'models'),\n ('providers', 'interact_with', 'AI'),\n ('the Commission', 'governs_or_guides', 'AI'),\n ('provider', 'interact_with', 'AI'),\n ('provider', 'interact_with', 'AI'),\n ('high-risk AI systems', 'require', 'transparency towards the public'),\n ('AI systems', 'utlises', 'input data'),\n ('Union', 'governs_or_guides', 'AI'),\n ('Union', 'governs_or_guides', 'AI systems'),\n ('Regulation', 'governs_or_guides', 'AI'),\n ('providers', 'interact_with', 'AI'),\n ('providers', 'interact_with', 'models'),\n ('Regulation', 'governs_or_guides', 'AI systems'),\n ('Union', 'governs_or_guides', 'AI systems'),\n ('e provid', 'interact_with', 'e AI syst'),\n ('Providers', 'interact_with', 'AI systems'),\n ('Providers', 'interact_with', 'persons'),\n ('AI systems', 'is_affected_by', 'AI'),\n ('persons', 'are_central_to', 'AI'),\n ('AI systems', 'is_affected_by', 'cybersecurity'),\n ('provider', 'interact_with', 'AI systems'),\n ('deployer', 'interact_with', 'AI systems'),\n ('AI systems', 'is_affected_by', 'compliance'),\n ('provider', 'interact_with', 'AI systems'),\n ('provider', 'interact_with', 'AI systems'),\n ('training', 'require', 'compliance'),\n ('AI systems', 'is_affected_by', 'compliance'),\n ('provider', 'interact_with', 'AI systems'),\n ('law enforcement', 'regulates', 'AI systems'),\n ('AI systems', 'utlises', 'personal data'),\n ('provider', 'interact_with', 'testing'),\n ('provider', 'interact_with', 'AI systems'),\n ('testing', 'consider', 'termination'),\n ('providers', 'interact_with', 'high-risk AI systems'),\n ('high-risk AI systems', 'involved_in', 'monitoring'),\n ('provider', 'interact_with', 'AI systems'),\n ('deployer', 'interact_with', 'AI systems'),\n ('provider', 'interact_with', 'AI systems'),\n ('market surveillance authorities', 'governs_or_guides', 'AI systems'),\n ('Regulation', 'governs_or_guides', 'AI systems'),\n ('the AI Office', 'governs_or_guides', 'AI systems'),\n ('the AI Office', 'regulates', 'AI systems'),\n ('the Board', 'governs_or_guides', 'AI systems'),\n ('provider', 'interact_with', 'AI systems'),\n ('AI systems', 'require', 'compliance'),\n ('Regulation', 'governs_or_guides', 'AI'),\n ('provider', 'interact_with', 'AI'),\n ('provider', 'interact_with', 'AI'),\n ('Regulation', 'governs_or_guides', 'AI systems'),\n ('Regulation', 'require', 'compliance'),\n ('AI systems', 'require', 'compliance'),\n ('law enforcement', 'utlises', 'high-risk AI systems'),\n ('natural persons', 'perform_in', 'evaluate'),\n ('AI systems', 'involved_in', 'training'),\n ('AI systems', 'is_affected_by', 'compliance')]"
     },
     "execution_count": 18,
     "metadata": {},
     "output_type": "execute_result"
    }
   ],
   "source": [
    "triplets = []\n",
    "for relation in relations:\n",
    "    head = dreeam_input[int(relation[\"input_idx\"])][\"vertexSet\"][relation[\"h_idx\"]][0][\"name\"]\n",
    "    tail = dreeam_input[int(relation[\"input_idx\"])][\"vertexSet\"][relation[\"t_idx\"]][0][\"name\"]\n",
    "    relation = rel_info[relation[\"r\"]]\n",
    "    \n",
    "    if head == 'AI system':\n",
    "        head = \"AI systems\"\n",
    "        \n",
    "    if tail == 'AI system':\n",
    "        tail = \"AI systems\"\n",
    "    \n",
    "    triplets.append((head, relation, tail))\n",
    "triplets"
   ],
   "metadata": {
    "collapsed": false,
    "ExecuteTime": {
     "end_time": "2024-04-04T15:25:16.502611Z",
     "start_time": "2024-04-04T15:25:16.490232Z"
    }
   },
   "id": "b7bbac69737ce522",
   "execution_count": 18
  },
  {
   "cell_type": "code",
   "outputs": [],
   "source": [
    "with open(\"dreeam_output_processed.json\", \"w\") as outfile:\n",
    "    json.dump(triplets, outfile, indent=4)"
   ],
   "metadata": {
    "collapsed": false,
    "ExecuteTime": {
     "end_time": "2024-04-04T14:57:51.124300Z",
     "start_time": "2024-04-04T14:57:51.120488Z"
    }
   },
   "id": "b4a3be11168d5f50",
   "execution_count": 9
  },
  {
   "cell_type": "code",
   "outputs": [],
   "source": [
    "import networkx as nx\n",
    "from pyvis.network import Network\n",
    "\n",
    "G = nx.DiGraph()\n",
    "\n",
    "for item in triplets:\n",
    "    G.add_edge(item[0], item[2], label=item[1])\n",
    "    \n",
    "net = Network(notebook=False, height=\"750px\", width=\"100%\")\n",
    "net.from_nx(G)\n",
    "\n",
    "# Customize the visualization\n",
    "net.show_buttons(filter_=['physics'])\n",
    "net.toggle_physics(True)\n",
    "\n",
    "# Save the visualization to a html file\n",
    "net.save_graph(\"knowledge_graph/knowledge_graph.html\")"
   ],
   "metadata": {
    "collapsed": false,
    "ExecuteTime": {
     "end_time": "2024-04-04T15:25:21.618563Z",
     "start_time": "2024-04-04T15:25:21.223097Z"
    }
   },
   "id": "202cf9e49102d7b8",
   "execution_count": 19
  },
  {
   "cell_type": "code",
   "outputs": [],
   "source": [],
   "metadata": {
    "collapsed": false
   },
   "id": "f48a6c624031565b"
  }
 ],
 "metadata": {
  "kernelspec": {
   "display_name": "Python 3",
   "language": "python",
   "name": "python3"
  },
  "language_info": {
   "codemirror_mode": {
    "name": "ipython",
    "version": 2
   },
   "file_extension": ".py",
   "mimetype": "text/x-python",
   "name": "python",
   "nbconvert_exporter": "python",
   "pygments_lexer": "ipython2",
   "version": "2.7.6"
  }
 },
 "nbformat": 4,
 "nbformat_minor": 5
}
