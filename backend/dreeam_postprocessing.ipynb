{
 "cells": [
  {
   "cell_type": "code",
   "id": "initial_id",
   "metadata": {
    "collapsed": true,
    "ExecuteTime": {
     "end_time": "2024-04-05T14:05:39.197542Z",
     "start_time": "2024-04-05T14:05:39.183572Z"
    }
   },
   "source": [
    "import json\n",
    "\n",
    "with open(\"dreeam/output_from_dreeam.json\", \"r\") as file:\n",
    "    dreeam_output = json.load(file)\n",
    "\n",
    "with open(\"dataset/dataset/docred/test.json\", \"r\") as file:\n",
    "    dreeam_input = json.load(file)"
   ],
   "outputs": [],
   "execution_count": 1
  },
  {
   "cell_type": "code",
   "source": [
    "len(dreeam_output)"
   ],
   "metadata": {
    "collapsed": false,
    "ExecuteTime": {
     "end_time": "2024-04-05T14:05:40.031422Z",
     "start_time": "2024-04-05T14:05:40.026364Z"
    }
   },
   "id": "b65a4f6551a85b91",
   "outputs": [
    {
     "data": {
      "text/plain": [
       "99"
      ]
     },
     "execution_count": 2,
     "metadata": {},
     "output_type": "execute_result"
    }
   ],
   "execution_count": 2
  },
  {
   "cell_type": "code",
   "source": [
    "with open(\"dataset/meta/rel_info.json\", \"r\") as file:\n",
    "    rel_info = json.load(file)"
   ],
   "metadata": {
    "collapsed": false,
    "ExecuteTime": {
     "end_time": "2024-04-05T14:05:52.548452Z",
     "start_time": "2024-04-05T14:05:52.544596Z"
    }
   },
   "id": "d26fbbc12e814a6b",
   "outputs": [],
   "execution_count": 3
  },
  {
   "cell_type": "code",
   "source": [
    "relations = [{\"input_idx\": relation[\"title\"].split()[-1], \"h_idx\": relation[\"h_idx\"], \"t_idx\": relation[\"t_idx\"], \"r\": relation[\"r\"]} for relation in dreeam_output]\n",
    "relations[10]"
   ],
   "metadata": {
    "collapsed": false,
    "ExecuteTime": {
     "end_time": "2024-04-05T14:07:26.186365Z",
     "start_time": "2024-04-05T14:07:26.183209Z"
    }
   },
   "id": "ee1e9a895db9c5f5",
   "outputs": [
    {
     "data": {
      "text/plain": [
       "{'input_idx': '10', 'h_idx': 13, 't_idx': 12, 'r': 'P3'}"
      ]
     },
     "execution_count": 6,
     "metadata": {},
     "output_type": "execute_result"
    }
   ],
   "execution_count": 6
  },
  {
   "cell_type": "code",
   "source": [
    "triplets = []\n",
    "for relation in relations:\n",
    "    head = dreeam_input[int(relation[\"input_idx\"])][\"vertexSet\"][relation[\"h_idx\"]][0][\"name\"]\n",
    "    tail = dreeam_input[int(relation[\"input_idx\"])][\"vertexSet\"][relation[\"t_idx\"]][0][\"name\"]\n",
    "    relation = rel_info[relation[\"r\"]]\n",
    "    \n",
    "    if head == 'AI system':\n",
    "        head = \"AI systems\"\n",
    "        \n",
    "    if tail == 'AI system':\n",
    "        tail = \"AI systems\"\n",
    "    \n",
    "    triplets.append((head, relation, tail))\n",
    "triplets"
   ],
   "metadata": {
    "collapsed": false,
    "ExecuteTime": {
     "end_time": "2024-04-05T14:07:45.463546Z",
     "start_time": "2024-04-05T14:07:45.451414Z"
    }
   },
   "id": "b7bbac69737ce522",
   "outputs": [
    {
     "data": {
      "text/plain": [
       "[('the AI Office', 'governs_or_guides', 'AI systems'),\n",
       " ('the Commission', 'governs_or_guides', 'AI systems'),\n",
       " ('the Commission', 'governs_or_guides', 'AI systems'),\n",
       " ('persons', 'are_central_to', 'non-discrimination'),\n",
       " ('persons', 'are_central_to', 'privacy'),\n",
       " ('Regulation', 'governs_or_guides', 'AI systems'),\n",
       " ('the Commission', 'governs_or_guides', 'AI systems'),\n",
       " ('persons', 'are_central_to', 'safety'),\n",
       " ('persons', 'are_central_to', 'safety components'),\n",
       " ('persons', 'are_central_to', 'health'),\n",
       " ('persons', 'are_central_to', 'rights'),\n",
       " ('natural persons', 'are_central_to', 'characteristics'),\n",
       " ('AI systems', 'is_affected_by', 'rights'),\n",
       " ('AI systems', 'is_affected_by', ' right'),\n",
       " ('AI systems', 'is_affected_by', ' non-discriminatio'),\n",
       " ('AI systems', 'is_affected_by', ' human dignit'),\n",
       " ('AI systems', 'is_affected_by', 'd heal'),\n",
       " ('persons', 'are_central_to', 'rights'),\n",
       " ('persons', 'are_central_to', 'privacy'),\n",
       " ('persons', 'perform_in', 'employment'),\n",
       " ('persons', 'are_central_to', ' right'),\n",
       " ('persons', 'are_central_to', ' non-discriminatio'),\n",
       " ('persons', 'are_central_to', ' human dignit'),\n",
       " ('persons', 'are_central_to', ' high-ris'),\n",
       " ('persons', 'perform_in', 'evaluate'),\n",
       " ('persons', 'are_central_to', 'health'),\n",
       " ('persons', 'are_central_to', 'd heal'),\n",
       " ('natural persons', 'are_central_to', 'rights'),\n",
       " ('natural persons', 'are_central_to', 'privacy'),\n",
       " ('natural persons', 'perform_in', 'employment'),\n",
       " ('natural persons', 'are_central_to', ' right'),\n",
       " ('natural persons', 'are_central_to', ' non-discriminatio'),\n",
       " ('natural persons', 'are_central_to', ' human dignit'),\n",
       " ('natural persons', 'are_central_to', ' high-ris'),\n",
       " ('natural persons', 'perform_in', 'evaluate'),\n",
       " ('natural persons', 'are_central_to', 'health'),\n",
       " ('natural persons', 'are_central_to', 'd heal'),\n",
       " ('natural persons', 'perform_in', 'evaluate'),\n",
       " ('natural persons', 'are_central_to', 'health'),\n",
       " ('persons', 'perform_in', 'evaluate'),\n",
       " ('persons', 'are_central_to', 'health'),\n",
       " ('persons', 'are_central_to', 'characteristics'),\n",
       " ('development', 'require', 'compliance'),\n",
       " ('training', 'require', 'data governance'),\n",
       " ('instructions for use', 'require', 'Transparency'),\n",
       " ('provider', 'interact_with', 'AI systems'),\n",
       " ('persons', 'are_central_to', 'rights'),\n",
       " ('persons', 'are_central_to', 'characteristics'),\n",
       " ('persons', 'are_central_to', 'compliance'),\n",
       " ('persons', 'are_central_to', 'health'),\n",
       " ('persons', 'are_central_to', 'safety'),\n",
       " ('persons', 'are_central_to', 'high-risk'),\n",
       " ('natural persons', 'are_central_to', 'compliance'),\n",
       " ('natural persons', 'are_central_to', 'health'),\n",
       " ('natural persons', 'are_central_to', 'safety'),\n",
       " ('natural persons', 'are_central_to', 'high-risk'),\n",
       " ('high-risk AI systems', 'require', 'transparency towards the public'),\n",
       " ('AI systems', 'utlises', 'biometric data'),\n",
       " ('natural persons', 'are_central_to', 'characteristics'),\n",
       " ('AI systems', 'utlises', 'biometric data'),\n",
       " ('persons', 'are_central_to', 'characteristics'),\n",
       " ('providers', 'utlises', 'biometric data'),\n",
       " ('he Char', 'based_on', 'al Rig'),\n",
       " ('natural persons', 'are_central_to', 'Consent of subjects'),\n",
       " ('natural persons', 'are_central_to', 'rights'),\n",
       " ('persons', 'are_central_to', 'Consent of subjects'),\n",
       " ('persons', 'are_central_to', 'rights'),\n",
       " ('the Commission', 'governs_or_guides', 'the AI Office'),\n",
       " ('the Commission', 'governs_or_guides', 'the AI Office'),\n",
       " ('n AI syst', 'utlises', 'he biometric d'),\n",
       " ('n AI syst', 'utlises', 'f biometric da'),\n",
       " (' law enforcemen', 'utlises', ' biometric identificatio'),\n",
       " ('persons', 'are_central_to', 'rights'),\n",
       " ('persons', 'are_central_to', ' assessmen'),\n",
       " ('persons', 'are_central_to', 'compliance'),\n",
       " ('AI systems', 'is_affected_by', 'compliance'),\n",
       " ('provider', 'interact_with', 'high-risk AI systems'),\n",
       " ('persons', 'are_central_to', 'compliance'),\n",
       " ('persons', 'are_central_to', 'risks'),\n",
       " ('persons', 'are_central_to', 'health'),\n",
       " ('persons', 'are_central_to', 'safety'),\n",
       " ('persons', 'are_central_to', 'rights'),\n",
       " ('persons', 'are_central_to', ' complianc'),\n",
       " ('natural persons', 'perform_in', 'monitoring'),\n",
       " ('natural persons', 'perform_in', 'training'),\n",
       " ('natural persons', 'perform_in', 'Employment'),\n",
       " ('natural persons', 'perform_in', 'workers management'),\n",
       " ('natural persons', 'perform_in', 'self-employment'),\n",
       " ('natural persons', 'perform_in', 'recruitment'),\n",
       " ('natural persons', 'perform_in', 'evaluate'),\n",
       " ('natural persons', 'are_central_to', 'terms of the work'),\n",
       " ('natural persons', 'perform_in', 'promotion'),\n",
       " ('natural persons', 'perform_in', 'termination'),\n",
       " ('natural persons', 'are_central_to', 'contractual relationships'),\n",
       " ('natural persons', 'perform_in', 'systems'),\n",
       " ('natural persons', 'are_central_to', 'health'),\n",
       " ('persons', 'perform_in', 'training'),\n",
       " ('persons', 'are_central_to', 'contractual relationships'),\n",
       " ('r law enforceme', 'utlises', ' biometric dat')]"
      ]
     },
     "execution_count": 7,
     "metadata": {},
     "output_type": "execute_result"
    }
   ],
   "execution_count": 7
  },
  {
   "metadata": {
    "ExecuteTime": {
     "end_time": "2024-04-05T14:09:43.361379Z",
     "start_time": "2024-04-05T14:09:43.356915Z"
    }
   },
   "cell_type": "code",
   "source": "len(triplets)",
   "id": "41f67ecb11055b34",
   "outputs": [
    {
     "data": {
      "text/plain": [
       "99"
      ]
     },
     "execution_count": 10,
     "metadata": {},
     "output_type": "execute_result"
    }
   ],
   "execution_count": 10
  },
  {
   "cell_type": "code",
   "source": [
    "with open(\"dreeam_outputs/paragraphs_512_tokens.json\", \"w\") as outfile:\n",
    "    json.dump(triplets, outfile, indent=4)"
   ],
   "metadata": {
    "collapsed": false,
    "ExecuteTime": {
     "end_time": "2024-04-05T14:08:24.744813Z",
     "start_time": "2024-04-05T14:08:24.741059Z"
    }
   },
   "id": "b4a3be11168d5f50",
   "outputs": [],
   "execution_count": 8
  },
  {
   "cell_type": "code",
   "source": [
    "import networkx as nx\n",
    "from pyvis.network import Network\n",
    "\n",
    "G = nx.DiGraph()\n",
    "\n",
    "for item in triplets:\n",
    "    G.add_edge(item[0], item[2], label=item[1])\n",
    "    \n",
    "net = Network(notebook=False, height=\"750px\", width=\"100%\")\n",
    "net.from_nx(G)\n",
    "\n",
    "# Customize the visualization\n",
    "net.show_buttons(filter_=['physics'])\n",
    "net.toggle_physics(True)\n",
    "\n",
    "# Save the visualization to a html file\n",
    "net.save_graph(\"knowledge_graph/knowledge_graph.html\")"
   ],
   "metadata": {
    "collapsed": false,
    "ExecuteTime": {
     "end_time": "2024-04-05T14:08:30.360996Z",
     "start_time": "2024-04-05T14:08:29.188580Z"
    }
   },
   "id": "202cf9e49102d7b8",
   "outputs": [],
   "execution_count": 9
  },
  {
   "cell_type": "code",
   "outputs": [],
   "source": [],
   "metadata": {
    "collapsed": false
   },
   "id": "f48a6c624031565b",
   "execution_count": null
  }
 ],
 "metadata": {
  "kernelspec": {
   "display_name": "Python 3",
   "language": "python",
   "name": "python3"
  },
  "language_info": {
   "codemirror_mode": {
    "name": "ipython",
    "version": 2
   },
   "file_extension": ".py",
   "mimetype": "text/x-python",
   "name": "python",
   "nbconvert_exporter": "python",
   "pygments_lexer": "ipython2",
   "version": "2.7.6"
  }
 },
 "nbformat": 4,
 "nbformat_minor": 5
}
